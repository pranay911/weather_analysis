{
 "cells": [
  {
   "cell_type": "code",
   "execution_count": 119,
   "metadata": {},
   "outputs": [],
   "source": [
    "import pandas as pd\n",
    "from sklearn.tree import DecisionTreeClassifier\n",
    "from sklearn.model_selection import train_test_split\n",
    "from sklearn.metrics import accuracy_score\n",
    "from sklearn.externals import joblib\n",
    "from sklearn import tree\n",
    "\n",
    "weatherdata = pd.read_csv('myweather.csv')\n",
    "X = weatherdata.drop(columns=['summer','rain'])\n",
    "Y = weatherdata['summer']\n",
    "\n",
    "# X_train, X_test, Y_train, Y_test = train_test_split(X, Y, test_size=0.3)\n",
    "\n",
    "\n",
    "model = DecisionTreeClassifier()\n",
    "model.fit(X,Y)\n",
    "\n",
    "tree.export_graphviz(model, out_file='summer-analysis-win.dot',\n",
    "                    feature_names=['humidity','tempreature','pressure','summer'],\n",
    "                    class_names=sorted(str(Y.unique())),\n",
    "                    label='all',\n",
    "                    rounded=True,\n",
    "                    filled=True)\n",
    "\n",
    "# model = joblib.load('weather3.joblib')\n",
    "\n",
    "# model.fit(X_train,Y_train)\n",
    "# predictions = model.predict(X_test)\n",
    "# score = accuracy_score(Y_test,predictions)\n",
    "# score\n",
    "\n",
    "# predictions = model.predict([[47,1,1011,1],[47,1,1011,0]])\n",
    "# predictions\n",
    "\n"
   ]
  },
  {
   "cell_type": "code",
   "execution_count": null,
   "metadata": {},
   "outputs": [],
   "source": []
  }
 ],
 "metadata": {
  "kernelspec": {
   "display_name": "Python 3",
   "language": "python",
   "name": "python3"
  },
  "language_info": {
   "codemirror_mode": {
    "name": "ipython",
    "version": 3
   },
   "file_extension": ".py",
   "mimetype": "text/x-python",
   "name": "python",
   "nbconvert_exporter": "python",
   "pygments_lexer": "ipython3",
   "version": "3.7.6"
  }
 },
 "nbformat": 4,
 "nbformat_minor": 4
}
