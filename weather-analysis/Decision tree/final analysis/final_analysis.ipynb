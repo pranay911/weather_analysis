{
 "cells": [
  {
   "cell_type": "code",
   "execution_count": 100,
   "metadata": {},
   "outputs": [],
   "source": [
    "import pandas as pd\n",
    "from sklearn.tree import DecisionTreeClassifier\n",
    "from sklearn.model_selection import train_test_split\n",
    "from sklearn.metrics import accuracy_score\n",
    "from sklearn.externals import joblib\n",
    "from sklearn import tree\n",
    "import numpy as np\n",
    "\n",
    "weatherdata = pd.read_csv('myweather.csv')\n",
    "\n",
    "X = weatherdata.values[:,3:7]\n",
    "Y = weatherdata.values[:,3:7]\n",
    "\n",
    "X_train, X_test, Y_train, Y_test = train_test_split(X, Y, test_size=0.8)\n",
    "\n",
    "model =  DecisionTreeClassifier()\n",
    "model.fit(X_train, Y_train)\n",
    "\n",
    "joblib.load('finalweather.joblib')\n",
    "\n",
    "tree.export_graphviz(model, out_file='weather-analysis-fin.dot',\n",
    "                    feature_names=['rain','winter','summer','spring'],\n",
    "                    label='all',\n",
    "                    rounded=True,\n",
    "                    filled=True)\n",
    "\n",
    "\n",
    "# predictions = model.predict(X_test)\n",
    "# score = accuracy_score(Y_test,predictions)\n",
    "# score\n",
    "\n",
    "\n"
   ]
  },
  {
   "cell_type": "code",
   "execution_count": null,
   "metadata": {},
   "outputs": [],
   "source": []
  }
 ],
 "metadata": {
  "kernelspec": {
   "display_name": "Python 3",
   "language": "python",
   "name": "python3"
  },
  "language_info": {
   "codemirror_mode": {
    "name": "ipython",
    "version": 3
   },
   "file_extension": ".py",
   "mimetype": "text/x-python",
   "name": "python",
   "nbconvert_exporter": "python",
   "pygments_lexer": "ipython3",
   "version": "3.7.6"
  }
 },
 "nbformat": 4,
 "nbformat_minor": 4
}
