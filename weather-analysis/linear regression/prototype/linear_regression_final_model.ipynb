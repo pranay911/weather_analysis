{
 "cells": [
  {
   "cell_type": "code",
   "execution_count": 24,
   "metadata": {},
   "outputs": [
    {
     "data": {
      "text/html": [
       "<div>\n",
       "<style scoped>\n",
       "    .dataframe tbody tr th:only-of-type {\n",
       "        vertical-align: middle;\n",
       "    }\n",
       "\n",
       "    .dataframe tbody tr th {\n",
       "        vertical-align: top;\n",
       "    }\n",
       "\n",
       "    .dataframe thead th {\n",
       "        text-align: right;\n",
       "    }\n",
       "</style>\n",
       "<table border=\"1\" class=\"dataframe\">\n",
       "  <thead>\n",
       "    <tr style=\"text-align: right;\">\n",
       "      <th></th>\n",
       "      <th>humidity</th>\n",
       "      <th>tempreature</th>\n",
       "      <th>pressure</th>\n",
       "      <th>rain</th>\n",
       "      <th>winter</th>\n",
       "      <th>summer</th>\n",
       "      <th>spring</th>\n",
       "    </tr>\n",
       "  </thead>\n",
       "  <tbody>\n",
       "    <tr>\n",
       "      <th>0</th>\n",
       "      <td>27</td>\n",
       "      <td>0.74</td>\n",
       "      <td>1010</td>\n",
       "      <td>0</td>\n",
       "      <td>1</td>\n",
       "      <td>0</td>\n",
       "      <td>0</td>\n",
       "    </tr>\n",
       "    <tr>\n",
       "      <th>1</th>\n",
       "      <td>32</td>\n",
       "      <td>0.85</td>\n",
       "      <td>9999</td>\n",
       "      <td>0</td>\n",
       "      <td>1</td>\n",
       "      <td>0</td>\n",
       "      <td>0</td>\n",
       "    </tr>\n",
       "    <tr>\n",
       "      <th>2</th>\n",
       "      <td>44</td>\n",
       "      <td>0.84</td>\n",
       "      <td>9999</td>\n",
       "      <td>0</td>\n",
       "      <td>1</td>\n",
       "      <td>0</td>\n",
       "      <td>0</td>\n",
       "    </tr>\n",
       "    <tr>\n",
       "      <th>3</th>\n",
       "      <td>41</td>\n",
       "      <td>0.76</td>\n",
       "      <td>1010</td>\n",
       "      <td>0</td>\n",
       "      <td>1</td>\n",
       "      <td>0</td>\n",
       "      <td>0</td>\n",
       "    </tr>\n",
       "    <tr>\n",
       "      <th>4</th>\n",
       "      <td>47</td>\n",
       "      <td>1.30</td>\n",
       "      <td>1011</td>\n",
       "      <td>0</td>\n",
       "      <td>1</td>\n",
       "      <td>0</td>\n",
       "      <td>0</td>\n",
       "    </tr>\n",
       "    <tr>\n",
       "      <th>...</th>\n",
       "      <td>...</td>\n",
       "      <td>...</td>\n",
       "      <td>...</td>\n",
       "      <td>...</td>\n",
       "      <td>...</td>\n",
       "      <td>...</td>\n",
       "      <td>...</td>\n",
       "    </tr>\n",
       "    <tr>\n",
       "      <th>194</th>\n",
       "      <td>40</td>\n",
       "      <td>50.00</td>\n",
       "      <td>1014</td>\n",
       "      <td>0</td>\n",
       "      <td>0</td>\n",
       "      <td>1</td>\n",
       "      <td>0</td>\n",
       "    </tr>\n",
       "    <tr>\n",
       "      <th>195</th>\n",
       "      <td>34</td>\n",
       "      <td>60.00</td>\n",
       "      <td>1014</td>\n",
       "      <td>0</td>\n",
       "      <td>0</td>\n",
       "      <td>1</td>\n",
       "      <td>0</td>\n",
       "    </tr>\n",
       "    <tr>\n",
       "      <th>196</th>\n",
       "      <td>28</td>\n",
       "      <td>51.00</td>\n",
       "      <td>1014</td>\n",
       "      <td>0</td>\n",
       "      <td>0</td>\n",
       "      <td>1</td>\n",
       "      <td>0</td>\n",
       "    </tr>\n",
       "    <tr>\n",
       "      <th>197</th>\n",
       "      <td>21</td>\n",
       "      <td>53.00</td>\n",
       "      <td>1014</td>\n",
       "      <td>0</td>\n",
       "      <td>0</td>\n",
       "      <td>1</td>\n",
       "      <td>0</td>\n",
       "    </tr>\n",
       "    <tr>\n",
       "      <th>198</th>\n",
       "      <td>20</td>\n",
       "      <td>54.00</td>\n",
       "      <td>1012</td>\n",
       "      <td>0</td>\n",
       "      <td>0</td>\n",
       "      <td>1</td>\n",
       "      <td>0</td>\n",
       "    </tr>\n",
       "  </tbody>\n",
       "</table>\n",
       "<p>199 rows × 7 columns</p>\n",
       "</div>"
      ],
      "text/plain": [
       "     humidity  tempreature  pressure  rain  winter   summer  spring\n",
       "0          27         0.74      1010     0        1       0       0\n",
       "1          32         0.85      9999     0        1       0       0\n",
       "2          44         0.84      9999     0        1       0       0\n",
       "3          41         0.76      1010     0        1       0       0\n",
       "4          47         1.30      1011     0        1       0       0\n",
       "..        ...          ...       ...   ...      ...     ...     ...\n",
       "194        40        50.00      1014     0        0       1       0\n",
       "195        34        60.00      1014     0        0       1       0\n",
       "196        28        51.00      1014     0        0       1       0\n",
       "197        21        53.00      1014     0        0       1       0\n",
       "198        20        54.00      1012     0        0       1       0\n",
       "\n",
       "[199 rows x 7 columns]"
      ]
     },
     "execution_count": 24,
     "metadata": {},
     "output_type": "execute_result"
    }
   ],
   "source": [
    "import pandas as pd\n",
    "import numpy as np\n",
    "import matplotlib.pyplot as plt\n",
    "\n",
    "from sklearn import linear_model\n",
    "weather_data=pd.read_csv(\"myweather.csv\")\n",
    "\n",
    "weather_data"
   ]
  },
  {
   "cell_type": "code",
   "execution_count": 25,
   "metadata": {},
   "outputs": [
    {
     "name": "stdout",
     "output_type": "stream",
     "text": [
      "<class 'pandas.core.frame.DataFrame'>\n",
      "RangeIndex: 199 entries, 0 to 198\n",
      "Data columns (total 7 columns):\n",
      " #   Column       Non-Null Count  Dtype  \n",
      "---  ------       --------------  -----  \n",
      " 0   humidity     199 non-null    int64  \n",
      " 1   tempreature  199 non-null    float64\n",
      " 2   pressure     199 non-null    int64  \n",
      " 3   rain         199 non-null    int64  \n",
      " 4   winter       199 non-null    int64  \n",
      " 5   summer       199 non-null    int64  \n",
      " 6   spring       199 non-null    int64  \n",
      "dtypes: float64(1), int64(6)\n",
      "memory usage: 11.0 KB\n"
     ]
    }
   ],
   "source": [
    "weather_data.info()\n"
   ]
  },
  {
   "cell_type": "code",
   "execution_count": 26,
   "metadata": {},
   "outputs": [],
   "source": [
    "#weather_data.describe()"
   ]
  },
  {
   "cell_type": "code",
   "execution_count": 27,
   "metadata": {},
   "outputs": [],
   "source": [
    "#for historic graph\n",
    "#%matplotlib inline\n",
    "#import matplotlib.pyplot as plt\n",
    "#weather_data.hist(bins=50, figsize=(20,15))"
   ]
  },
  {
   "cell_type": "code",
   "execution_count": 28,
   "metadata": {},
   "outputs": [],
   "source": [
    "## Train test spliting\n",
    "import numpy as np\n",
    "def split_train_test(data,test_ratio):\n",
    "    #np.random.seed(42)\n",
    "\n",
    "    shuffled=np.random.permutation(len(data))\n",
    "    print(shuffled)\n",
    "    test_set_size=int(len(data)*test_ratio)\n",
    "    test_indices=shuffled[:test_set_size]\n",
    "    train_indices=shuffled[test_set_size:]\n",
    "    return data.iloc[train_indices],data.iloc[test_indices]"
   ]
  },
  {
   "cell_type": "code",
   "execution_count": 29,
   "metadata": {},
   "outputs": [
    {
     "name": "stdout",
     "output_type": "stream",
     "text": [
      "[184  19 178 105  91  59 142  55  61 137 193 120 162  96 159 106  44 167\n",
      "  17 150 192   8  58 156 102  82 155 121 101  92 166  53  63 108 154 135\n",
      "  37  84 112 185  14  71  39  32  20  22 116  23 138  62   2  85 174 110\n",
      "  27 188 177 170  50  33  11  68 153  90  31 123 191   9  29 128 113  36\n",
      " 160 100 189 148 175  35  65 181 122  49  69 183  94  16 173 194 195 165\n",
      "  75  24 176 151  77  30 109 114 198  89  76   4  40  72  83  95 147 190\n",
      " 129   5 132 136 186 168 182  88   0 103  51  18 163 172  46  56 119   7\n",
      "  41  73  86 125 107  42   3  99  52  26 117 171 145 158 133   6 111  48\n",
      "  66  80  13  64 149  21  98  25 180 157 131  57  43  74 187  45  15 124\n",
      " 126  87  67 144 161 104  60  54 143 118  78 134 196 169 139 179  93  10\n",
      "   1 140 141  34  81  12  70  97  47 115  79 197 164 130  38 146 152  28\n",
      " 127]\n"
     ]
    }
   ],
   "source": [
    "train_set, test_set=split_train_test(weather_data,0.2)"
   ]
  },
  {
   "cell_type": "code",
   "execution_count": 30,
   "metadata": {},
   "outputs": [],
   "source": [
    "#print(f\"rows in train set :{len(train_set)}\\n Rows in test set:{len(test_set)}\\n\")"
   ]
  },
  {
   "cell_type": "code",
   "execution_count": 31,
   "metadata": {},
   "outputs": [
    {
     "name": "stdout",
     "output_type": "stream",
     "text": [
      "rows in train set :159\n",
      " Rows in test set:40\n",
      "\n"
     ]
    }
   ],
   "source": [
    "from sklearn.model_selection import train_test_split\n",
    "train_set, test_set= train_test_split(weather_data, test_size=0.2, random_state=42)\n",
    "print(f\"rows in train set :{len(train_set)}\\n Rows in test set:{len(test_set)}\\n\")"
   ]
  },
  {
   "cell_type": "code",
   "execution_count": 32,
   "metadata": {},
   "outputs": [],
   "source": [
    "from sklearn.model_selection import StratifiedShuffleSplit\n",
    "split= StratifiedShuffleSplit(n_splits=1, test_size=0.2, random_state=42)\n",
    "for train_index,test_index in split.split(weather_data, weather_data['winter ']):\n",
    "    strat_train_set= weather_data.loc[train_index]\n",
    "    strat_test_set= weather_data.loc[test_index]\n",
    "\n",
    "\n"
   ]
  },
  {
   "cell_type": "code",
   "execution_count": 33,
   "metadata": {},
   "outputs": [
    {
     "data": {
      "text/html": [
       "<div>\n",
       "<style scoped>\n",
       "    .dataframe tbody tr th:only-of-type {\n",
       "        vertical-align: middle;\n",
       "    }\n",
       "\n",
       "    .dataframe tbody tr th {\n",
       "        vertical-align: top;\n",
       "    }\n",
       "\n",
       "    .dataframe thead th {\n",
       "        text-align: right;\n",
       "    }\n",
       "</style>\n",
       "<table border=\"1\" class=\"dataframe\">\n",
       "  <thead>\n",
       "    <tr style=\"text-align: right;\">\n",
       "      <th></th>\n",
       "      <th>humidity</th>\n",
       "      <th>tempreature</th>\n",
       "      <th>pressure</th>\n",
       "      <th>rain</th>\n",
       "      <th>winter</th>\n",
       "      <th>summer</th>\n",
       "      <th>spring</th>\n",
       "    </tr>\n",
       "  </thead>\n",
       "  <tbody>\n",
       "    <tr>\n",
       "      <th>91</th>\n",
       "      <td>56</td>\n",
       "      <td>30.00</td>\n",
       "      <td>1013</td>\n",
       "      <td>1</td>\n",
       "      <td>0</td>\n",
       "      <td>0</td>\n",
       "      <td>1</td>\n",
       "    </tr>\n",
       "    <tr>\n",
       "      <th>61</th>\n",
       "      <td>77</td>\n",
       "      <td>21.00</td>\n",
       "      <td>1012</td>\n",
       "      <td>0</td>\n",
       "      <td>1</td>\n",
       "      <td>0</td>\n",
       "      <td>0</td>\n",
       "    </tr>\n",
       "    <tr>\n",
       "      <th>156</th>\n",
       "      <td>30</td>\n",
       "      <td>16.00</td>\n",
       "      <td>1012</td>\n",
       "      <td>0</td>\n",
       "      <td>1</td>\n",
       "      <td>0</td>\n",
       "      <td>0</td>\n",
       "    </tr>\n",
       "    <tr>\n",
       "      <th>157</th>\n",
       "      <td>32</td>\n",
       "      <td>15.00</td>\n",
       "      <td>1013</td>\n",
       "      <td>0</td>\n",
       "      <td>1</td>\n",
       "      <td>0</td>\n",
       "      <td>0</td>\n",
       "    </tr>\n",
       "    <tr>\n",
       "      <th>75</th>\n",
       "      <td>59</td>\n",
       "      <td>28.00</td>\n",
       "      <td>1011</td>\n",
       "      <td>1</td>\n",
       "      <td>0</td>\n",
       "      <td>0</td>\n",
       "      <td>1</td>\n",
       "    </tr>\n",
       "    <tr>\n",
       "      <th>4</th>\n",
       "      <td>47</td>\n",
       "      <td>1.30</td>\n",
       "      <td>1011</td>\n",
       "      <td>0</td>\n",
       "      <td>1</td>\n",
       "      <td>0</td>\n",
       "      <td>0</td>\n",
       "    </tr>\n",
       "    <tr>\n",
       "      <th>81</th>\n",
       "      <td>23</td>\n",
       "      <td>23.00</td>\n",
       "      <td>1011</td>\n",
       "      <td>1</td>\n",
       "      <td>0</td>\n",
       "      <td>0</td>\n",
       "      <td>1</td>\n",
       "    </tr>\n",
       "    <tr>\n",
       "      <th>138</th>\n",
       "      <td>49</td>\n",
       "      <td>27.00</td>\n",
       "      <td>1015</td>\n",
       "      <td>1</td>\n",
       "      <td>1</td>\n",
       "      <td>0</td>\n",
       "      <td>1</td>\n",
       "    </tr>\n",
       "    <tr>\n",
       "      <th>108</th>\n",
       "      <td>25</td>\n",
       "      <td>15.00</td>\n",
       "      <td>1012</td>\n",
       "      <td>0</td>\n",
       "      <td>1</td>\n",
       "      <td>0</td>\n",
       "      <td>0</td>\n",
       "    </tr>\n",
       "    <tr>\n",
       "      <th>185</th>\n",
       "      <td>49</td>\n",
       "      <td>47.00</td>\n",
       "      <td>1012</td>\n",
       "      <td>0</td>\n",
       "      <td>0</td>\n",
       "      <td>1</td>\n",
       "      <td>0</td>\n",
       "    </tr>\n",
       "    <tr>\n",
       "      <th>7</th>\n",
       "      <td>60</td>\n",
       "      <td>1.80</td>\n",
       "      <td>9999</td>\n",
       "      <td>0</td>\n",
       "      <td>1</td>\n",
       "      <td>0</td>\n",
       "      <td>0</td>\n",
       "    </tr>\n",
       "    <tr>\n",
       "      <th>158</th>\n",
       "      <td>43</td>\n",
       "      <td>16.00</td>\n",
       "      <td>1013</td>\n",
       "      <td>0</td>\n",
       "      <td>1</td>\n",
       "      <td>0</td>\n",
       "      <td>0</td>\n",
       "    </tr>\n",
       "    <tr>\n",
       "      <th>12</th>\n",
       "      <td>60</td>\n",
       "      <td>24.00</td>\n",
       "      <td>1010</td>\n",
       "      <td>1</td>\n",
       "      <td>0</td>\n",
       "      <td>0</td>\n",
       "      <td>0</td>\n",
       "    </tr>\n",
       "    <tr>\n",
       "      <th>43</th>\n",
       "      <td>30</td>\n",
       "      <td>17.00</td>\n",
       "      <td>1010</td>\n",
       "      <td>0</td>\n",
       "      <td>1</td>\n",
       "      <td>0</td>\n",
       "      <td>0</td>\n",
       "    </tr>\n",
       "    <tr>\n",
       "      <th>177</th>\n",
       "      <td>22</td>\n",
       "      <td>49.00</td>\n",
       "      <td>1012</td>\n",
       "      <td>0</td>\n",
       "      <td>0</td>\n",
       "      <td>1</td>\n",
       "      <td>0</td>\n",
       "    </tr>\n",
       "    <tr>\n",
       "      <th>195</th>\n",
       "      <td>34</td>\n",
       "      <td>60.00</td>\n",
       "      <td>1014</td>\n",
       "      <td>0</td>\n",
       "      <td>0</td>\n",
       "      <td>1</td>\n",
       "      <td>0</td>\n",
       "    </tr>\n",
       "    <tr>\n",
       "      <th>129</th>\n",
       "      <td>32</td>\n",
       "      <td>17.00</td>\n",
       "      <td>1016</td>\n",
       "      <td>0</td>\n",
       "      <td>1</td>\n",
       "      <td>0</td>\n",
       "      <td>0</td>\n",
       "    </tr>\n",
       "    <tr>\n",
       "      <th>119</th>\n",
       "      <td>59</td>\n",
       "      <td>29.00</td>\n",
       "      <td>1014</td>\n",
       "      <td>1</td>\n",
       "      <td>0</td>\n",
       "      <td>0</td>\n",
       "      <td>1</td>\n",
       "    </tr>\n",
       "    <tr>\n",
       "      <th>190</th>\n",
       "      <td>63</td>\n",
       "      <td>54.00</td>\n",
       "      <td>1011</td>\n",
       "      <td>0</td>\n",
       "      <td>0</td>\n",
       "      <td>1</td>\n",
       "      <td>0</td>\n",
       "    </tr>\n",
       "    <tr>\n",
       "      <th>53</th>\n",
       "      <td>64</td>\n",
       "      <td>28.00</td>\n",
       "      <td>1011</td>\n",
       "      <td>0</td>\n",
       "      <td>1</td>\n",
       "      <td>0</td>\n",
       "      <td>1</td>\n",
       "    </tr>\n",
       "    <tr>\n",
       "      <th>40</th>\n",
       "      <td>53</td>\n",
       "      <td>19.00</td>\n",
       "      <td>1012</td>\n",
       "      <td>1</td>\n",
       "      <td>0</td>\n",
       "      <td>0</td>\n",
       "      <td>0</td>\n",
       "    </tr>\n",
       "    <tr>\n",
       "      <th>68</th>\n",
       "      <td>29</td>\n",
       "      <td>17.00</td>\n",
       "      <td>1010</td>\n",
       "      <td>0</td>\n",
       "      <td>1</td>\n",
       "      <td>0</td>\n",
       "      <td>0</td>\n",
       "    </tr>\n",
       "    <tr>\n",
       "      <th>32</th>\n",
       "      <td>68</td>\n",
       "      <td>30.00</td>\n",
       "      <td>1009</td>\n",
       "      <td>0</td>\n",
       "      <td>1</td>\n",
       "      <td>0</td>\n",
       "      <td>1</td>\n",
       "    </tr>\n",
       "    <tr>\n",
       "      <th>6</th>\n",
       "      <td>60</td>\n",
       "      <td>1.93</td>\n",
       "      <td>1010</td>\n",
       "      <td>0</td>\n",
       "      <td>1</td>\n",
       "      <td>0</td>\n",
       "      <td>0</td>\n",
       "    </tr>\n",
       "    <tr>\n",
       "      <th>64</th>\n",
       "      <td>42</td>\n",
       "      <td>19.00</td>\n",
       "      <td>1013</td>\n",
       "      <td>0</td>\n",
       "      <td>1</td>\n",
       "      <td>0</td>\n",
       "      <td>0</td>\n",
       "    </tr>\n",
       "    <tr>\n",
       "      <th>130</th>\n",
       "      <td>23</td>\n",
       "      <td>16.00</td>\n",
       "      <td>1015</td>\n",
       "      <td>0</td>\n",
       "      <td>1</td>\n",
       "      <td>0</td>\n",
       "      <td>0</td>\n",
       "    </tr>\n",
       "    <tr>\n",
       "      <th>14</th>\n",
       "      <td>52</td>\n",
       "      <td>21.00</td>\n",
       "      <td>1011</td>\n",
       "      <td>0</td>\n",
       "      <td>1</td>\n",
       "      <td>0</td>\n",
       "      <td>0</td>\n",
       "    </tr>\n",
       "    <tr>\n",
       "      <th>184</th>\n",
       "      <td>49</td>\n",
       "      <td>52.00</td>\n",
       "      <td>9999</td>\n",
       "      <td>0</td>\n",
       "      <td>0</td>\n",
       "      <td>1</td>\n",
       "      <td>0</td>\n",
       "    </tr>\n",
       "    <tr>\n",
       "      <th>49</th>\n",
       "      <td>60</td>\n",
       "      <td>22.00</td>\n",
       "      <td>1010</td>\n",
       "      <td>0</td>\n",
       "      <td>1</td>\n",
       "      <td>0</td>\n",
       "      <td>0</td>\n",
       "    </tr>\n",
       "    <tr>\n",
       "      <th>163</th>\n",
       "      <td>55</td>\n",
       "      <td>28.00</td>\n",
       "      <td>1014</td>\n",
       "      <td>0</td>\n",
       "      <td>0</td>\n",
       "      <td>0</td>\n",
       "      <td>1</td>\n",
       "    </tr>\n",
       "    <tr>\n",
       "      <th>55</th>\n",
       "      <td>64</td>\n",
       "      <td>29.00</td>\n",
       "      <td>1011</td>\n",
       "      <td>0</td>\n",
       "      <td>1</td>\n",
       "      <td>0</td>\n",
       "      <td>1</td>\n",
       "    </tr>\n",
       "    <tr>\n",
       "      <th>118</th>\n",
       "      <td>52</td>\n",
       "      <td>30.00</td>\n",
       "      <td>1014</td>\n",
       "      <td>1</td>\n",
       "      <td>0</td>\n",
       "      <td>0</td>\n",
       "      <td>1</td>\n",
       "    </tr>\n",
       "    <tr>\n",
       "      <th>189</th>\n",
       "      <td>67</td>\n",
       "      <td>55.00</td>\n",
       "      <td>1011</td>\n",
       "      <td>0</td>\n",
       "      <td>0</td>\n",
       "      <td>1</td>\n",
       "      <td>0</td>\n",
       "    </tr>\n",
       "    <tr>\n",
       "      <th>60</th>\n",
       "      <td>68</td>\n",
       "      <td>21.00</td>\n",
       "      <td>1011</td>\n",
       "      <td>1</td>\n",
       "      <td>0</td>\n",
       "      <td>0</td>\n",
       "      <td>1</td>\n",
       "    </tr>\n",
       "    <tr>\n",
       "      <th>174</th>\n",
       "      <td>36</td>\n",
       "      <td>19.00</td>\n",
       "      <td>1014</td>\n",
       "      <td>0</td>\n",
       "      <td>0</td>\n",
       "      <td>1</td>\n",
       "      <td>0</td>\n",
       "    </tr>\n",
       "    <tr>\n",
       "      <th>13</th>\n",
       "      <td>60</td>\n",
       "      <td>23.00</td>\n",
       "      <td>1010</td>\n",
       "      <td>1</td>\n",
       "      <td>0</td>\n",
       "      <td>0</td>\n",
       "      <td>0</td>\n",
       "    </tr>\n",
       "    <tr>\n",
       "      <th>166</th>\n",
       "      <td>63</td>\n",
       "      <td>39.00</td>\n",
       "      <td>1013</td>\n",
       "      <td>0</td>\n",
       "      <td>0</td>\n",
       "      <td>1</td>\n",
       "      <td>1</td>\n",
       "    </tr>\n",
       "    <tr>\n",
       "      <th>111</th>\n",
       "      <td>36</td>\n",
       "      <td>19.00</td>\n",
       "      <td>1013</td>\n",
       "      <td>0</td>\n",
       "      <td>1</td>\n",
       "      <td>0</td>\n",
       "      <td>0</td>\n",
       "    </tr>\n",
       "    <tr>\n",
       "      <th>48</th>\n",
       "      <td>42</td>\n",
       "      <td>19.00</td>\n",
       "      <td>1010</td>\n",
       "      <td>1</td>\n",
       "      <td>1</td>\n",
       "      <td>0</td>\n",
       "      <td>0</td>\n",
       "    </tr>\n",
       "    <tr>\n",
       "      <th>73</th>\n",
       "      <td>46</td>\n",
       "      <td>26.00</td>\n",
       "      <td>1011</td>\n",
       "      <td>1</td>\n",
       "      <td>0</td>\n",
       "      <td>0</td>\n",
       "      <td>1</td>\n",
       "    </tr>\n",
       "  </tbody>\n",
       "</table>\n",
       "</div>"
      ],
      "text/plain": [
       "     humidity  tempreature  pressure  rain  winter   summer  spring\n",
       "91         56        30.00      1013     1        0       0       1\n",
       "61         77        21.00      1012     0        1       0       0\n",
       "156        30        16.00      1012     0        1       0       0\n",
       "157        32        15.00      1013     0        1       0       0\n",
       "75         59        28.00      1011     1        0       0       1\n",
       "4          47         1.30      1011     0        1       0       0\n",
       "81         23        23.00      1011     1        0       0       1\n",
       "138        49        27.00      1015     1        1       0       1\n",
       "108        25        15.00      1012     0        1       0       0\n",
       "185        49        47.00      1012     0        0       1       0\n",
       "7          60         1.80      9999     0        1       0       0\n",
       "158        43        16.00      1013     0        1       0       0\n",
       "12         60        24.00      1010     1        0       0       0\n",
       "43         30        17.00      1010     0        1       0       0\n",
       "177        22        49.00      1012     0        0       1       0\n",
       "195        34        60.00      1014     0        0       1       0\n",
       "129        32        17.00      1016     0        1       0       0\n",
       "119        59        29.00      1014     1        0       0       1\n",
       "190        63        54.00      1011     0        0       1       0\n",
       "53         64        28.00      1011     0        1       0       1\n",
       "40         53        19.00      1012     1        0       0       0\n",
       "68         29        17.00      1010     0        1       0       0\n",
       "32         68        30.00      1009     0        1       0       1\n",
       "6          60         1.93      1010     0        1       0       0\n",
       "64         42        19.00      1013     0        1       0       0\n",
       "130        23        16.00      1015     0        1       0       0\n",
       "14         52        21.00      1011     0        1       0       0\n",
       "184        49        52.00      9999     0        0       1       0\n",
       "49         60        22.00      1010     0        1       0       0\n",
       "163        55        28.00      1014     0        0       0       1\n",
       "55         64        29.00      1011     0        1       0       1\n",
       "118        52        30.00      1014     1        0       0       1\n",
       "189        67        55.00      1011     0        0       1       0\n",
       "60         68        21.00      1011     1        0       0       1\n",
       "174        36        19.00      1014     0        0       1       0\n",
       "13         60        23.00      1010     1        0       0       0\n",
       "166        63        39.00      1013     0        0       1       1\n",
       "111        36        19.00      1013     0        1       0       0\n",
       "48         42        19.00      1010     1        1       0       0\n",
       "73         46        26.00      1011     1        0       0       1"
      ]
     },
     "execution_count": 33,
     "metadata": {},
     "output_type": "execute_result"
    }
   ],
   "source": [
    "strat_test_set"
   ]
  },
  {
   "cell_type": "code",
   "execution_count": 34,
   "metadata": {},
   "outputs": [
    {
     "data": {
      "text/plain": [
       "0    32\n",
       "1     8\n",
       "Name: summer, dtype: int64"
      ]
     },
     "execution_count": 34,
     "metadata": {},
     "output_type": "execute_result"
    }
   ],
   "source": [
    "strat_test_set['summer'].value_counts()"
   ]
  },
  {
   "cell_type": "code",
   "execution_count": 35,
   "metadata": {},
   "outputs": [],
   "source": [
    "#21/17"
   ]
  },
  {
   "cell_type": "code",
   "execution_count": 36,
   "metadata": {},
   "outputs": [
    {
     "data": {
      "text/plain": [
       "0    134\n",
       "1     25\n",
       "Name: summer, dtype: int64"
      ]
     },
     "execution_count": 36,
     "metadata": {},
     "output_type": "execute_result"
    }
   ],
   "source": [
    "strat_train_set['summer'].value_counts()"
   ]
  },
  {
   "cell_type": "code",
   "execution_count": 37,
   "metadata": {},
   "outputs": [],
   "source": [
    "#87/70"
   ]
  },
  {
   "cell_type": "code",
   "execution_count": 38,
   "metadata": {},
   "outputs": [
    {
     "data": {
      "text/plain": [
       "summer         1.000000\n",
       "tempreature    0.816917\n",
       "spring         0.015835\n",
       "pressure       0.014835\n",
       "humidity      -0.093017\n",
       "rain          -0.335712\n",
       "winter        -0.461834\n",
       "Name: summer, dtype: float64"
      ]
     },
     "execution_count": 38,
     "metadata": {},
     "output_type": "execute_result"
    }
   ],
   "source": [
    "### lookimg for corelation\n",
    "corr_matrix = weather_data.corr()\n",
    "corr_matrix['summer'].sort_values(ascending=False)"
   ]
  },
  {
   "cell_type": "code",
   "execution_count": 39,
   "metadata": {},
   "outputs": [
    {
     "data": {
      "text/plain": [
       "array([[<matplotlib.axes._subplots.AxesSubplot object at 0x00000210922F1A88>,\n",
       "        <matplotlib.axes._subplots.AxesSubplot object at 0x00000210923D3348>,\n",
       "        <matplotlib.axes._subplots.AxesSubplot object at 0x00000210924055C8>,\n",
       "        <matplotlib.axes._subplots.AxesSubplot object at 0x0000021092435BC8>,\n",
       "        <matplotlib.axes._subplots.AxesSubplot object at 0x000002109246C948>,\n",
       "        <matplotlib.axes._subplots.AxesSubplot object at 0x00000210924A46C8>,\n",
       "        <matplotlib.axes._subplots.AxesSubplot object at 0x00000210924DB448>],\n",
       "       [<matplotlib.axes._subplots.AxesSubplot object at 0x00000210925121C8>,\n",
       "        <matplotlib.axes._subplots.AxesSubplot object at 0x000002109253FF48>,\n",
       "        <matplotlib.axes._subplots.AxesSubplot object at 0x0000021092575FC8>,\n",
       "        <matplotlib.axes._subplots.AxesSubplot object at 0x00000210925B6108>,\n",
       "        <matplotlib.axes._subplots.AxesSubplot object at 0x00000210925F0208>,\n",
       "        <matplotlib.axes._subplots.AxesSubplot object at 0x0000021092627308>,\n",
       "        <matplotlib.axes._subplots.AxesSubplot object at 0x000002109265F448>],\n",
       "       [<matplotlib.axes._subplots.AxesSubplot object at 0x0000021092697508>,\n",
       "        <matplotlib.axes._subplots.AxesSubplot object at 0x00000210926D0608>,\n",
       "        <matplotlib.axes._subplots.AxesSubplot object at 0x0000021092709708>,\n",
       "        <matplotlib.axes._subplots.AxesSubplot object at 0x0000021092741848>,\n",
       "        <matplotlib.axes._subplots.AxesSubplot object at 0x0000021092779948>,\n",
       "        <matplotlib.axes._subplots.AxesSubplot object at 0x00000210927B3A08>,\n",
       "        <matplotlib.axes._subplots.AxesSubplot object at 0x00000210927EBB48>],\n",
       "       [<matplotlib.axes._subplots.AxesSubplot object at 0x0000021092823C48>,\n",
       "        <matplotlib.axes._subplots.AxesSubplot object at 0x000002109285BD48>,\n",
       "        <matplotlib.axes._subplots.AxesSubplot object at 0x0000021092893E88>,\n",
       "        <matplotlib.axes._subplots.AxesSubplot object at 0x00000210928CAF08>,\n",
       "        <matplotlib.axes._subplots.AxesSubplot object at 0x000002109290A048>,\n",
       "        <matplotlib.axes._subplots.AxesSubplot object at 0x0000021092942188>,\n",
       "        <matplotlib.axes._subplots.AxesSubplot object at 0x000002109297B288>],\n",
       "       [<matplotlib.axes._subplots.AxesSubplot object at 0x00000210929B2388>,\n",
       "        <matplotlib.axes._subplots.AxesSubplot object at 0x00000210929EB448>,\n",
       "        <matplotlib.axes._subplots.AxesSubplot object at 0x0000021092A24588>,\n",
       "        <matplotlib.axes._subplots.AxesSubplot object at 0x0000021092A5B688>,\n",
       "        <matplotlib.axes._subplots.AxesSubplot object at 0x0000021092A93788>,\n",
       "        <matplotlib.axes._subplots.AxesSubplot object at 0x0000021092ACE8C8>,\n",
       "        <matplotlib.axes._subplots.AxesSubplot object at 0x0000021092B069C8>],\n",
       "       [<matplotlib.axes._subplots.AxesSubplot object at 0x0000021092B3E448>,\n",
       "        <matplotlib.axes._subplots.AxesSubplot object at 0x0000021092B76588>,\n",
       "        <matplotlib.axes._subplots.AxesSubplot object at 0x0000021092BB0688>,\n",
       "        <matplotlib.axes._subplots.AxesSubplot object at 0x0000021092BE7788>,\n",
       "        <matplotlib.axes._subplots.AxesSubplot object at 0x0000021092C208C8>,\n",
       "        <matplotlib.axes._subplots.AxesSubplot object at 0x0000021092C59948>,\n",
       "        <matplotlib.axes._subplots.AxesSubplot object at 0x0000021092C91A48>],\n",
       "       [<matplotlib.axes._subplots.AxesSubplot object at 0x0000021092CCAB88>,\n",
       "        <matplotlib.axes._subplots.AxesSubplot object at 0x0000021092D01C88>,\n",
       "        <matplotlib.axes._subplots.AxesSubplot object at 0x0000021092D3BD88>,\n",
       "        <matplotlib.axes._subplots.AxesSubplot object at 0x0000021092D72E48>,\n",
       "        <matplotlib.axes._subplots.AxesSubplot object at 0x0000021092DABF48>,\n",
       "        <matplotlib.axes._subplots.AxesSubplot object at 0x0000021092DEB088>,\n",
       "        <matplotlib.axes._subplots.AxesSubplot object at 0x0000021092E241C8>]],\n",
       "      dtype=object)"
      ]
     },
     "execution_count": 39,
     "metadata": {},
     "output_type": "execute_result"
    },
    {
     "data": {
      "image/png": "[encoded data removed]",
      "text/plain": [
       "<Figure size 864x648 with 49 Axes>"
      ]
     },
     "metadata": {
      "needs_background": "light"
     },
     "output_type": "display_data"
    }
   ],
   "source": [
    "from pandas.plotting import scatter_matrix\n",
    "attributes =[\"rain\",\"winter \",\"summer\",\"humidity\",\"pressure\",\"tempreature\",\"spring\"]\n",
    "scatter_matrix(weather_data[attributes],figsize = (12,9))"
   ]
  },
  {
   "cell_type": "code",
   "execution_count": 40,
   "metadata": {},
   "outputs": [
    {
     "data": {
      "text/plain": [
       "<matplotlib.axes._subplots.AxesSubplot at 0x210921d6c08>"
      ]
     },
     "execution_count": 40,
     "metadata": {},
     "output_type": "execute_result"
    },
    {
     "data": {
      "image/png": "[encoded data removed]",
      "text/plain": [
       "<Figure size 432x288 with 1 Axes>"
      ]
     },
     "metadata": {
      "needs_background": "light"
     },
     "output_type": "display_data"
    }
   ],
   "source": [
    "#we can take any combination to get full figure of the above\n",
    "weather_data.plot(kind=\"scatter\",x=\"rain\",y=\"humidity\",alpha=0.8)\n"
   ]
  },
  {
   "cell_type": "code",
   "execution_count": 41,
   "metadata": {},
   "outputs": [
    {
     "data": {
      "text/plain": [
       "winter         1.000000\n",
       "pressure       0.090806\n",
       "humidity      -0.122840\n",
       "spring        -0.268640\n",
       "rain          -0.403209\n",
       "summer        -0.461834\n",
       "tempreature   -0.549992\n",
       "Name: winter , dtype: float64"
      ]
     },
     "execution_count": 41,
     "metadata": {},
     "output_type": "execute_result"
    }
   ],
   "source": [
    "### lookimg for corelation\n",
    "corr_matrix = weather_data.corr()\n",
    "corr_matrix['winter '].sort_values(ascending=False)"
   ]
  },
  {
   "cell_type": "code",
   "execution_count": 42,
   "metadata": {},
   "outputs": [
    {
     "data": {
      "text/plain": [
       "(199, 7)"
      ]
     },
     "execution_count": 42,
     "metadata": {},
     "output_type": "execute_result"
    }
   ],
   "source": [
    "##missing valueslab\n",
    "a = weather_data.dropna(subset=[\"rain\"])\n",
    "a.shape"
   ]
  },
  {
   "cell_type": "code",
   "execution_count": 43,
   "metadata": {},
   "outputs": [],
   "source": [
    "weather_data=strat_train_set.drop(\"winter \", axis=1)\n",
    "weather_data_label=strat_train_set[\"winter \"].copy()\n"
   ]
  },
  {
   "cell_type": "code",
   "execution_count": 44,
   "metadata": {},
   "outputs": [
    {
     "data": {
      "text/html": [
       "<div>\n",
       "<style scoped>\n",
       "    .dataframe tbody tr th:only-of-type {\n",
       "        vertical-align: middle;\n",
       "    }\n",
       "\n",
       "    .dataframe tbody tr th {\n",
       "        vertical-align: top;\n",
       "    }\n",
       "\n",
       "    .dataframe thead th {\n",
       "        text-align: right;\n",
       "    }\n",
       "</style>\n",
       "<table border=\"1\" class=\"dataframe\">\n",
       "  <thead>\n",
       "    <tr style=\"text-align: right;\">\n",
       "      <th></th>\n",
       "      <th>humidity</th>\n",
       "      <th>tempreature</th>\n",
       "      <th>rain</th>\n",
       "      <th>summer</th>\n",
       "      <th>spring</th>\n",
       "    </tr>\n",
       "  </thead>\n",
       "  <tbody>\n",
       "    <tr>\n",
       "      <th>117</th>\n",
       "      <td>49</td>\n",
       "      <td>30.00</td>\n",
       "      <td>1</td>\n",
       "      <td>0</td>\n",
       "      <td>1</td>\n",
       "    </tr>\n",
       "    <tr>\n",
       "      <th>136</th>\n",
       "      <td>46</td>\n",
       "      <td>21.00</td>\n",
       "      <td>0</td>\n",
       "      <td>0</td>\n",
       "      <td>0</td>\n",
       "    </tr>\n",
       "    <tr>\n",
       "      <th>165</th>\n",
       "      <td>55</td>\n",
       "      <td>37.00</td>\n",
       "      <td>0</td>\n",
       "      <td>0</td>\n",
       "      <td>1</td>\n",
       "    </tr>\n",
       "    <tr>\n",
       "      <th>0</th>\n",
       "      <td>27</td>\n",
       "      <td>0.74</td>\n",
       "      <td>0</td>\n",
       "      <td>0</td>\n",
       "      <td>0</td>\n",
       "    </tr>\n",
       "    <tr>\n",
       "      <th>101</th>\n",
       "      <td>59</td>\n",
       "      <td>19.00</td>\n",
       "      <td>0</td>\n",
       "      <td>0</td>\n",
       "      <td>0</td>\n",
       "    </tr>\n",
       "    <tr>\n",
       "      <th>...</th>\n",
       "      <td>...</td>\n",
       "      <td>...</td>\n",
       "      <td>...</td>\n",
       "      <td>...</td>\n",
       "      <td>...</td>\n",
       "    </tr>\n",
       "    <tr>\n",
       "      <th>196</th>\n",
       "      <td>28</td>\n",
       "      <td>51.00</td>\n",
       "      <td>0</td>\n",
       "      <td>1</td>\n",
       "      <td>0</td>\n",
       "    </tr>\n",
       "    <tr>\n",
       "      <th>25</th>\n",
       "      <td>41</td>\n",
       "      <td>23.00</td>\n",
       "      <td>1</td>\n",
       "      <td>0</td>\n",
       "      <td>0</td>\n",
       "    </tr>\n",
       "    <tr>\n",
       "      <th>85</th>\n",
       "      <td>27</td>\n",
       "      <td>18.00</td>\n",
       "      <td>0</td>\n",
       "      <td>0</td>\n",
       "      <td>0</td>\n",
       "    </tr>\n",
       "    <tr>\n",
       "      <th>142</th>\n",
       "      <td>59</td>\n",
       "      <td>28.00</td>\n",
       "      <td>1</td>\n",
       "      <td>0</td>\n",
       "      <td>1</td>\n",
       "    </tr>\n",
       "    <tr>\n",
       "      <th>72</th>\n",
       "      <td>44</td>\n",
       "      <td>20.00</td>\n",
       "      <td>0</td>\n",
       "      <td>0</td>\n",
       "      <td>1</td>\n",
       "    </tr>\n",
       "  </tbody>\n",
       "</table>\n",
       "<p>159 rows × 5 columns</p>\n",
       "</div>"
      ],
      "text/plain": [
       "     humidity  tempreature  rain  summer  spring\n",
       "117        49        30.00     1       0       1\n",
       "136        46        21.00     0       0       0\n",
       "165        55        37.00     0       0       1\n",
       "0          27         0.74     0       0       0\n",
       "101        59        19.00     0       0       0\n",
       "..        ...          ...   ...     ...     ...\n",
       "196        28        51.00     0       1       0\n",
       "25         41        23.00     1       0       0\n",
       "85         27        18.00     0       0       0\n",
       "142        59        28.00     1       0       1\n",
       "72         44        20.00     0       0       1\n",
       "\n",
       "[159 rows x 5 columns]"
      ]
     },
     "execution_count": 44,
     "metadata": {},
     "output_type": "execute_result"
    }
   ],
   "source": [
    "weather_data.drop(\"pressure\",axis=1)#remove date nd time\n",
    "\n"
   ]
  },
  {
   "cell_type": "code",
   "execution_count": 45,
   "metadata": {},
   "outputs": [],
   "source": [
    "median=weather_data[\"pressure\"].median()"
   ]
  },
  {
   "cell_type": "code",
   "execution_count": 46,
   "metadata": {},
   "outputs": [
    {
     "data": {
      "text/plain": [
       "117    1014\n",
       "136    1015\n",
       "165    1013\n",
       "0      1010\n",
       "101    1014\n",
       "       ... \n",
       "196    1014\n",
       "25     1009\n",
       "85     1011\n",
       "142    1015\n",
       "72     1011\n",
       "Name: pressure, Length: 159, dtype: int64"
      ]
     },
     "execution_count": 46,
     "metadata": {},
     "output_type": "execute_result"
    }
   ],
   "source": [
    "weather_data[\"pressure\"].fillna(median)"
   ]
  },
  {
   "cell_type": "code",
   "execution_count": 47,
   "metadata": {},
   "outputs": [
    {
     "data": {
      "text/plain": [
       "(159, 6)"
      ]
     },
     "execution_count": 47,
     "metadata": {},
     "output_type": "execute_result"
    }
   ],
   "source": [
    "weather_data.shape"
   ]
  },
  {
   "cell_type": "code",
   "execution_count": 48,
   "metadata": {},
   "outputs": [
    {
     "data": {
      "text/plain": [
       "SimpleImputer(add_indicator=False, copy=True, fill_value=None,\n",
       "              missing_values=nan, strategy='median', verbose=0)"
      ]
     },
     "execution_count": 48,
     "metadata": {},
     "output_type": "execute_result"
    }
   ],
   "source": [
    "from sklearn.impute import SimpleImputer\n",
    "Imputer = SimpleImputer(strategy=\"median\")\n",
    "Imputer.fit(weather_data)\n"
   ]
  },
  {
   "cell_type": "code",
   "execution_count": 49,
   "metadata": {},
   "outputs": [
    {
     "data": {
      "text/plain": [
       "array([  49.,   22., 1012.,    0.,    0.,    0.])"
      ]
     },
     "execution_count": 49,
     "metadata": {},
     "output_type": "execute_result"
    }
   ],
   "source": [
    " Imputer.statistics_"
   ]
  },
  {
   "cell_type": "code",
   "execution_count": 50,
   "metadata": {},
   "outputs": [],
   "source": [
    "X=Imputer.transform(weather_data)"
   ]
  },
  {
   "cell_type": "code",
   "execution_count": 51,
   "metadata": {},
   "outputs": [],
   "source": [
    "weather_data_tr = pd.DataFrame( X, columns=weather_data.columns)"
   ]
  },
  {
   "cell_type": "code",
   "execution_count": 52,
   "metadata": {},
   "outputs": [
    {
     "data": {
      "text/html": [
       "<div>\n",
       "<style scoped>\n",
       "    .dataframe tbody tr th:only-of-type {\n",
       "        vertical-align: middle;\n",
       "    }\n",
       "\n",
       "    .dataframe tbody tr th {\n",
       "        vertical-align: top;\n",
       "    }\n",
       "\n",
       "    .dataframe thead th {\n",
       "        text-align: right;\n",
       "    }\n",
       "</style>\n",
       "<table border=\"1\" class=\"dataframe\">\n",
       "  <thead>\n",
       "    <tr style=\"text-align: right;\">\n",
       "      <th></th>\n",
       "      <th>humidity</th>\n",
       "      <th>tempreature</th>\n",
       "      <th>pressure</th>\n",
       "      <th>rain</th>\n",
       "      <th>summer</th>\n",
       "      <th>spring</th>\n",
       "    </tr>\n",
       "  </thead>\n",
       "  <tbody>\n",
       "    <tr>\n",
       "      <th>0</th>\n",
       "      <td>49.0</td>\n",
       "      <td>30.00</td>\n",
       "      <td>1014.0</td>\n",
       "      <td>1.0</td>\n",
       "      <td>0.0</td>\n",
       "      <td>1.0</td>\n",
       "    </tr>\n",
       "    <tr>\n",
       "      <th>1</th>\n",
       "      <td>46.0</td>\n",
       "      <td>21.00</td>\n",
       "      <td>1015.0</td>\n",
       "      <td>0.0</td>\n",
       "      <td>0.0</td>\n",
       "      <td>0.0</td>\n",
       "    </tr>\n",
       "    <tr>\n",
       "      <th>2</th>\n",
       "      <td>55.0</td>\n",
       "      <td>37.00</td>\n",
       "      <td>1013.0</td>\n",
       "      <td>0.0</td>\n",
       "      <td>0.0</td>\n",
       "      <td>1.0</td>\n",
       "    </tr>\n",
       "    <tr>\n",
       "      <th>3</th>\n",
       "      <td>27.0</td>\n",
       "      <td>0.74</td>\n",
       "      <td>1010.0</td>\n",
       "      <td>0.0</td>\n",
       "      <td>0.0</td>\n",
       "      <td>0.0</td>\n",
       "    </tr>\n",
       "    <tr>\n",
       "      <th>4</th>\n",
       "      <td>59.0</td>\n",
       "      <td>19.00</td>\n",
       "      <td>1014.0</td>\n",
       "      <td>0.0</td>\n",
       "      <td>0.0</td>\n",
       "      <td>0.0</td>\n",
       "    </tr>\n",
       "    <tr>\n",
       "      <th>...</th>\n",
       "      <td>...</td>\n",
       "      <td>...</td>\n",
       "      <td>...</td>\n",
       "      <td>...</td>\n",
       "      <td>...</td>\n",
       "      <td>...</td>\n",
       "    </tr>\n",
       "    <tr>\n",
       "      <th>154</th>\n",
       "      <td>28.0</td>\n",
       "      <td>51.00</td>\n",
       "      <td>1014.0</td>\n",
       "      <td>0.0</td>\n",
       "      <td>1.0</td>\n",
       "      <td>0.0</td>\n",
       "    </tr>\n",
       "    <tr>\n",
       "      <th>155</th>\n",
       "      <td>41.0</td>\n",
       "      <td>23.00</td>\n",
       "      <td>1009.0</td>\n",
       "      <td>1.0</td>\n",
       "      <td>0.0</td>\n",
       "      <td>0.0</td>\n",
       "    </tr>\n",
       "    <tr>\n",
       "      <th>156</th>\n",
       "      <td>27.0</td>\n",
       "      <td>18.00</td>\n",
       "      <td>1011.0</td>\n",
       "      <td>0.0</td>\n",
       "      <td>0.0</td>\n",
       "      <td>0.0</td>\n",
       "    </tr>\n",
       "    <tr>\n",
       "      <th>157</th>\n",
       "      <td>59.0</td>\n",
       "      <td>28.00</td>\n",
       "      <td>1015.0</td>\n",
       "      <td>1.0</td>\n",
       "      <td>0.0</td>\n",
       "      <td>1.0</td>\n",
       "    </tr>\n",
       "    <tr>\n",
       "      <th>158</th>\n",
       "      <td>44.0</td>\n",
       "      <td>20.00</td>\n",
       "      <td>1011.0</td>\n",
       "      <td>0.0</td>\n",
       "      <td>0.0</td>\n",
       "      <td>1.0</td>\n",
       "    </tr>\n",
       "  </tbody>\n",
       "</table>\n",
       "<p>159 rows × 6 columns</p>\n",
       "</div>"
      ],
      "text/plain": [
       "     humidity  tempreature  pressure  rain  summer  spring\n",
       "0        49.0        30.00    1014.0   1.0     0.0     1.0\n",
       "1        46.0        21.00    1015.0   0.0     0.0     0.0\n",
       "2        55.0        37.00    1013.0   0.0     0.0     1.0\n",
       "3        27.0         0.74    1010.0   0.0     0.0     0.0\n",
       "4        59.0        19.00    1014.0   0.0     0.0     0.0\n",
       "..        ...          ...       ...   ...     ...     ...\n",
       "154      28.0        51.00    1014.0   0.0     1.0     0.0\n",
       "155      41.0        23.00    1009.0   1.0     0.0     0.0\n",
       "156      27.0        18.00    1011.0   0.0     0.0     0.0\n",
       "157      59.0        28.00    1015.0   1.0     0.0     1.0\n",
       "158      44.0        20.00    1011.0   0.0     0.0     1.0\n",
       "\n",
       "[159 rows x 6 columns]"
      ]
     },
     "execution_count": 52,
     "metadata": {},
     "output_type": "execute_result"
    }
   ],
   "source": [
    "weather_data_tr"
   ]
  },
  {
   "cell_type": "code",
   "execution_count": 53,
   "metadata": {},
   "outputs": [],
   "source": [
    "from sklearn.pipeline import Pipeline\n",
    "from sklearn.preprocessing import StandardScaler\n",
    "my_pipeline=Pipeline([\n",
    "    ('Imputer',SimpleImputer(strategy= \"median\")),\n",
    "     ('std_scaler', StandardScaler()),\n",
    "     ])"
   ]
  },
  {
   "cell_type": "code",
   "execution_count": 54,
   "metadata": {},
   "outputs": [],
   "source": [
    "weather_data_num_tr=my_pipeline.fit_transform(weather_data_tr)"
   ]
  },
  {
   "cell_type": "code",
   "execution_count": 55,
   "metadata": {},
   "outputs": [
    {
     "data": {
      "text/plain": [
       "array([[ 0.09979714,  0.34483667, -0.13720695,  1.28452326, -0.43193421,\n",
       "         1.35620268],\n",
       "       [-0.09215139, -0.40554924, -0.13638911, -0.77849894, -0.43193421,\n",
       "        -0.73735291],\n",
       "       [ 0.48369418,  0.92847015, -0.1380248 , -0.77849894, -0.43193421,\n",
       "         1.35620268],\n",
       "       [-1.30782537, -2.09475129, -0.14047832, -0.77849894, -0.43193421,\n",
       "        -0.73735291],\n",
       "       [ 0.73962555, -0.57230166, -0.13720695, -0.77849894, -0.43193421,\n",
       "        -0.73735291],\n",
       "       [-0.92392833, -0.8224303 , -0.1380248 , -0.77849894, -0.43193421,\n",
       "        -0.73735291],\n",
       "       [-0.98791117,  0.01133182, -0.13966048,  1.28452326, -0.43193421,\n",
       "        -0.73735291],\n",
       "       [ 0.73962555,  1.59547985, -0.1380248 , -0.77849894,  2.31516738,\n",
       "         1.35620268],\n",
       "       [ 0.54767703,  0.17808425, -0.13966048,  1.28452326, -0.43193421,\n",
       "         1.35620268],\n",
       "       [ 0.09979714,  1.17859879, -0.1380248 , -0.77849894,  2.31516738,\n",
       "         1.35620268],\n",
       "       [ 0.54767703,  0.09470804, -0.13720695,  1.28452326, -0.43193421,\n",
       "        -0.73735291],\n",
       "       [-0.92392833,  2.26248954, -0.13966048, -0.77849894,  2.31516738,\n",
       "        -0.73735291],\n",
       "       [-0.09215139, -0.65567787, -0.13557127, -0.77849894, -0.43193421,\n",
       "        -0.73735291],\n",
       "       [-0.66799696, -0.8224303 , -0.13720695, -0.77849894, -0.43193421,\n",
       "        -0.73735291],\n",
       "       [ 1.05953976,  0.01133182, -0.14047832, -0.77849894, -0.43193421,\n",
       "         1.35620268],\n",
       "       [-0.85994548,  0.09470804, -0.1380248 ,  1.28452326, -0.43193421,\n",
       "         1.35620268],\n",
       "       [-0.54003128, -0.57230166, -0.13884264, -0.77849894, -0.43193421,\n",
       "        -0.73735291],\n",
       "       [-1.62773958, -0.57230166, -0.14129616, -0.77849894, -0.43193421,\n",
       "        -0.73735291],\n",
       "       [-1.43579106, -0.48892545, -0.14129616,  1.28452326, -0.43193421,\n",
       "        -0.73735291],\n",
       "       [ 1.57140249, -0.07204439, -0.14129616, -0.77849894, -0.43193421,\n",
       "         1.35620268],\n",
       "       [-1.11587685, -0.40554924, -0.13884264,  1.28452326, -0.43193421,\n",
       "        -0.73735291],\n",
       "       [ 0.48369418,  1.51210364, -0.13966048, -0.77849894,  2.31516738,\n",
       "         1.35620268],\n",
       "       [ 0.73962555, -0.23879681, -0.13720695,  1.28452326, -0.43193421,\n",
       "        -0.73735291],\n",
       "       [-0.92392833, -0.8224303 , -0.14129616,  1.28452326, -0.43193421,\n",
       "        -0.73735291],\n",
       "       [ 0.09979714, -0.57230166, -0.13557127, -0.77849894, -0.43193421,\n",
       "        -0.73735291],\n",
       "       [ 0.3557285 ,  0.01133182, -0.14047832,  1.28452326, -0.43193421,\n",
       "        -0.73735291],\n",
       "       [ 0.29174566, -0.1554206 , -0.13720695,  1.28452326, -0.43193421,\n",
       "        -0.73735291],\n",
       "       [ 1.31547112, -0.40554924, -0.14047832,  1.28452326, -0.43193421,\n",
       "        -0.73735291],\n",
       "       [-1.30782537, -0.90580651, -0.13884264, -0.77849894, -0.43193421,\n",
       "        -0.73735291],\n",
       "       [ 1.05953976, -0.57230166, -0.13638911, -0.77849894, -0.43193421,\n",
       "        -0.73735291],\n",
       "       [ 1.8913167 , -0.32217302, -0.14047832,  1.28452326, -0.43193421,\n",
       "         1.35620268],\n",
       "       [-0.22011707, -0.40554924, -0.13884264,  1.28452326, -0.43193421,\n",
       "        -0.73735291],\n",
       "       [-0.66799696, -0.57230166, -0.1380248 , -0.77849894, -0.43193421,\n",
       "        -0.73735291],\n",
       "       [ 0.80360839, -0.73905408, -0.13884264, -0.77849894, -0.43193421,\n",
       "        -0.73735291],\n",
       "       [ 0.09979714, -0.1554206 , -0.13638911,  1.28452326, -0.43193421,\n",
       "        -0.73735291],\n",
       "       [ 1.57140249, -0.07204439, -0.13884264,  1.28452326, -0.43193421,\n",
       "         1.35620268],\n",
       "       [ 0.29174566,  0.34483667, -0.13884264,  1.28452326, -0.43193421,\n",
       "         1.35620268],\n",
       "       [-0.22011707, -0.73905408, -0.13966048, -0.77849894, -0.43193421,\n",
       "        -0.73735291],\n",
       "       [-1.30782537, -0.07204439, -0.13884264,  1.28452326, -0.43193421,\n",
       "         1.35620268],\n",
       "       [ 1.31547112,  0.26146046, -0.14047832,  1.28452326, -0.43193421,\n",
       "         1.35620268],\n",
       "       [-0.09215139, -0.07204439, -0.13720695,  1.28452326, -0.43193421,\n",
       "        -0.73735291],\n",
       "       [-0.60401412, -0.73905408, -0.13557127, -0.77849894, -0.43193421,\n",
       "        -0.73735291],\n",
       "       [ 1.57140249, -0.32217302, -0.14129616, -0.77849894, -0.43193421,\n",
       "         1.35620268],\n",
       "       [-0.60401412, -0.73905408, -0.13557127, -0.77849894, -0.43193421,\n",
       "        -0.73735291],\n",
       "       [-0.47604844,  2.92949924, -0.13966048, -0.77849894,  2.31516738,\n",
       "        -0.73735291],\n",
       "       [ 1.8913167 , -0.48892545, -0.13884264,  1.28452326, -0.43193421,\n",
       "         1.35620268],\n",
       "       [-1.62773958, -0.73905408, -0.14047832, -0.77849894, -0.43193421,\n",
       "        -0.73735291],\n",
       "       [-1.24384253, -0.8224303 , -0.1380248 , -0.77849894, -0.43193421,\n",
       "        -0.73735291],\n",
       "       [ 1.8913167 , -0.32217302, -0.14047832,  1.28452326, -0.43193421,\n",
       "         1.35620268],\n",
       "       [-0.02816855, -0.73905408, -0.13638911, -0.77849894, -0.43193421,\n",
       "        -0.73735291],\n",
       "       [ 1.05953976,  0.26146046, -0.13966048,  1.28452326, -0.43193421,\n",
       "         1.35620268],\n",
       "       [-1.30782537, -0.73905408, -0.13966048, -0.77849894, -0.43193421,\n",
       "        -0.73735291],\n",
       "       [-1.69172242,  2.26248954, -0.13720695, -0.77849894,  2.31516738,\n",
       "        -0.73735291],\n",
       "       [-1.56375674, -0.90580651, -0.13720695, -0.77849894, -0.43193421,\n",
       "        -0.73735291],\n",
       "       [ 0.03581429,  1.9289847 , -0.13966048, -0.77849894,  2.31516738,\n",
       "        -0.73735291],\n",
       "       [-1.37180822, -0.1554206 , -0.14047832,  1.28452326, -0.43193421,\n",
       "        -0.73735291],\n",
       "       [ 1.31547112,  0.17808425, -0.14129616, -0.77849894, -0.43193421,\n",
       "        -0.73735291],\n",
       "       [ 0.73962555,  1.261975  , -0.13884264, -0.77849894,  2.31516738,\n",
       "         1.35620268],\n",
       "       [ 1.57140249, -0.57230166, -0.13966048,  1.28452326, -0.43193421,\n",
       "        -0.73735291],\n",
       "       [-0.22011707, -0.57230166, -0.13720695,  1.28452326, -0.43193421,\n",
       "        -0.73735291],\n",
       "       [ 0.80360839, -0.48892545, -0.13720695, -0.77849894, -0.43193421,\n",
       "        -0.73735291],\n",
       "       [ 0.54767703,  0.17808425, -0.14047832, -0.77849894, -0.43193421,\n",
       "        -0.73735291],\n",
       "       [-1.17985969, -0.57230166, -0.14047832, -0.77849894, -0.43193421,\n",
       "        -0.73735291],\n",
       "       [ 1.31547112, -0.57230166, -0.1380248 ,  1.28452326, -0.43193421,\n",
       "        -0.73735291],\n",
       "       [ 0.54767703,  0.26146046, -0.1380248 ,  1.28452326, -0.43193421,\n",
       "         1.35620268],\n",
       "       [ 0.54767703,  0.26146046, -0.13638911,  1.28452326, -0.43193421,\n",
       "         1.35620268],\n",
       "       [-0.41206559, -0.65567787, -0.13720695, -0.77849894, -0.43193421,\n",
       "         1.35620268],\n",
       "       [ 0.80360839,  0.01133182, -0.13966048, -0.77849894, -0.43193421,\n",
       "         1.35620268],\n",
       "       [-1.56375674, -0.73905408, -0.13884264, -0.77849894, -0.43193421,\n",
       "        -0.73735291],\n",
       "       [ 0.99555692, -0.32217302, -0.1380248 ,  1.28452326, -0.43193421,\n",
       "        -0.73735291],\n",
       "       [ 0.99555692,  1.84560848, -0.1380248 , -0.77849894,  2.31516738,\n",
       "        -0.73735291],\n",
       "       [ 0.73962555, -0.48892545, -0.13720695, -0.77849894, -0.43193421,\n",
       "        -0.73735291],\n",
       "       [ 1.31547112,  0.09470804, -0.14047832,  1.28452326, -0.43193421,\n",
       "         1.35620268],\n",
       "       [-1.43579106, -0.65567787, -0.13884264, -0.77849894, -0.43193421,\n",
       "        -0.73735291],\n",
       "       [ 0.99555692, -0.48892545, -0.13966048,  1.28452326, -0.43193421,\n",
       "        -0.73735291],\n",
       "       [ 0.48369418,  0.17808425, -0.13720695, -0.77849894, -0.43193421,\n",
       "         1.35620268],\n",
       "       [-0.98791117, -2.08557991,  7.21109346, -0.77849894, -0.43193421,\n",
       "        -0.73735291],\n",
       "       [ 1.57140249,  0.17808425, -0.13884264,  1.28452326, -0.43193421,\n",
       "         1.35620268],\n",
       "       [ 1.05953976,  0.34483667, -0.14047832, -0.77849894, -0.43193421,\n",
       "         1.35620268],\n",
       "       [-0.98791117, -0.57230166, -0.13884264, -0.77849894, -0.43193421,\n",
       "        -0.73735291],\n",
       "       [ 0.73962555,  0.26146046, -0.1380248 ,  1.28452326, -0.43193421,\n",
       "         1.35620268],\n",
       "       [-0.98791117, -0.57230166, -0.13966048,  1.28452326, -0.43193421,\n",
       "        -0.73735291],\n",
       "       [ 0.73962555, -0.57230166, -0.13638911, -0.77849894, -0.43193421,\n",
       "        -0.73735291],\n",
       "       [-1.37180822, -0.8224303 , -0.1380248 , -0.77849894, -0.43193421,\n",
       "        -0.73735291],\n",
       "       [ 1.31547112,  0.09470804, -0.14129616, -0.77849894, -0.43193421,\n",
       "         1.35620268],\n",
       "       [-0.85994548, -0.32217302, -0.14129616,  1.28452326, -0.43193421,\n",
       "        -0.73735291],\n",
       "       [ 0.73962555, -0.1554206 , -0.1380248 ,  1.28452326, -0.43193421,\n",
       "        -0.73735291],\n",
       "       [ 0.29174566, -0.40554924, -0.13720695, -0.77849894, -0.43193421,\n",
       "        -0.73735291],\n",
       "       [ 1.8913167 , -0.1554206 , -0.13884264,  1.28452326, -0.43193421,\n",
       "         1.35620268],\n",
       "       [-1.24384253, -0.73905408, -0.13720695, -0.77849894, -0.43193421,\n",
       "        -0.73735291],\n",
       "       [ 0.99555692,  1.76223227, -0.1380248 , -0.77849894,  2.31516738,\n",
       "         1.35620268],\n",
       "       [ 0.80360839,  0.42821288, -0.14129616, -0.77849894, -0.43193421,\n",
       "         1.35620268],\n",
       "       [-0.09215139,  0.17808425, -0.13966048,  1.28452326, -0.43193421,\n",
       "         1.35620268],\n",
       "       [-0.79596264, -0.73905408, -0.14047832, -0.77849894, -0.43193421,\n",
       "        -0.73735291],\n",
       "       [ 0.99555692,  2.26248954, -0.13884264, -0.77849894,  2.31516738,\n",
       "        -0.73735291],\n",
       "       [ 0.29174566,  0.26146046, -0.13638911,  1.28452326, -0.43193421,\n",
       "         1.35620268],\n",
       "       [ 0.09979714, -0.57230166, -0.13557127, -0.77849894, -0.43193421,\n",
       "        -0.73735291],\n",
       "       [ 1.31547112, -2.02304775,  7.21109346, -0.77849894, -0.43193421,\n",
       "        -0.73735291],\n",
       "       [ 0.29174566,  0.26146046, -0.13720695,  1.28452326, -0.43193421,\n",
       "         1.35620268],\n",
       "       [ 0.29174566,  0.26146046, -0.13720695,  1.28452326, -0.43193421,\n",
       "         1.35620268],\n",
       "       [-1.43579106, -0.65567787, -0.13966048,  1.28452326, -0.43193421,\n",
       "        -0.73735291],\n",
       "       [-1.43579106, -0.65567787, -0.14047832, -0.77849894, -0.43193421,\n",
       "        -0.73735291],\n",
       "       [-0.41206559,  1.42872743, -0.13638911, -0.77849894,  2.31516738,\n",
       "         1.35620268],\n",
       "       [-1.75570526,  1.51210364, -0.13966048, -0.77849894,  2.31516738,\n",
       "         1.35620268],\n",
       "       [-1.4997739 , -0.57230166, -0.14129616, -0.77849894, -0.43193421,\n",
       "        -0.73735291],\n",
       "       [ 0.73962555,  1.42872743, -0.13966048, -0.77849894,  2.31516738,\n",
       "         1.35620268],\n",
       "       [ 0.80360839,  0.26146046, -0.13966048,  1.28452326, -0.43193421,\n",
       "         1.35620268],\n",
       "       [ 0.73962555, -0.40554924, -0.13720695,  1.28452326, -0.43193421,\n",
       "        -0.73735291],\n",
       "       [ 0.48369418, -0.48892545, -0.13720695, -0.77849894, -0.43193421,\n",
       "        -0.73735291],\n",
       "       [ 0.73962555, -0.07204439, -0.1380248 ,  1.28452326, -0.43193421,\n",
       "         1.35620268],\n",
       "       [-0.22011707, -2.08641367,  7.21109346, -0.77849894, -0.43193421,\n",
       "        -0.73735291],\n",
       "       [ 1.31547112,  0.34483667, -0.14047832, -0.77849894, -0.43193421,\n",
       "        -0.73735291],\n",
       "       [ 1.05953976, -0.1554206 , -0.14129616, -0.77849894, -0.43193421,\n",
       "        -0.73735291],\n",
       "       [-1.11587685,  2.84612303, -0.1380248 , -0.77849894,  2.31516738,\n",
       "        -0.73735291],\n",
       "       [-0.7319798 ,  0.26146046, -0.13884264,  1.28452326, -0.43193421,\n",
       "        -0.73735291],\n",
       "       [ 1.31547112, -0.48892545, -0.1380248 , -0.77849894, -0.43193421,\n",
       "        -0.73735291],\n",
       "       [-1.43579106, -0.40554924, -0.14047832,  1.28452326, -0.43193421,\n",
       "         1.35620268],\n",
       "       [ 1.05953976, -0.57230166, -0.13884264,  1.28452326, -0.43193421,\n",
       "        -0.73735291],\n",
       "       [ 0.54767703,  2.6793706 , -0.13884264, -0.77849894,  2.31516738,\n",
       "        -0.73735291],\n",
       "       [-1.4997739 ,  1.42872743, -0.13966048, -0.77849894,  2.31516738,\n",
       "         1.35620268],\n",
       "       [-0.09215139, -0.65567787, -0.13557127, -0.77849894, -0.43193421,\n",
       "        -0.73735291],\n",
       "       [-1.75570526,  2.34586576, -0.13884264, -0.77849894,  2.31516738,\n",
       "        -0.73735291],\n",
       "       [-0.54003128, -0.73905408, -0.14047832, -0.77849894, -0.43193421,\n",
       "        -0.73735291],\n",
       "       [-0.85994548, -0.90580651, -0.14047832, -0.77849894, -0.43193421,\n",
       "        -0.73735291],\n",
       "       [-0.09215139, -0.65567787, -0.13720695, -0.77849894, -0.43193421,\n",
       "        -0.73735291],\n",
       "       [-0.09215139, -0.40554924, -0.13884264, -0.77849894, -0.43193421,\n",
       "        -0.73735291],\n",
       "       [-0.60401412,  0.26146046, -0.1380248 ,  1.28452326, -0.43193421,\n",
       "         1.35620268],\n",
       "       [-0.41206559, -2.09308376, -0.14047832, -0.77849894, -0.43193421,\n",
       "        -0.73735291],\n",
       "       [ 0.09979714,  2.17911333, -0.13720695, -0.77849894,  2.31516738,\n",
       "        -0.73735291],\n",
       "       [ 0.09979714,  0.17808425, -0.13638911,  1.28452326, -0.43193421,\n",
       "         1.35620268],\n",
       "       [-0.47604844,  2.01236091, -0.13720695, -0.77849894,  2.31516738,\n",
       "        -0.73735291],\n",
       "       [ 0.73962555,  1.34535121, -0.1380248 , -0.77849894,  2.31516738,\n",
       "         1.35620268],\n",
       "       [ 0.54767703, -2.02304775, -0.13966048, -0.77849894, -0.43193421,\n",
       "        -0.73735291],\n",
       "       [ 0.29174566, -0.57230166, -0.13638911, -0.77849894, -0.43193421,\n",
       "        -0.73735291],\n",
       "       [-1.37180822, -0.8224303 , -0.13720695, -0.77849894, -0.43193421,\n",
       "        -0.73735291],\n",
       "       [ 0.09979714,  0.09470804, -0.13720695,  1.28452326, -0.43193421,\n",
       "         1.35620268],\n",
       "       [ 0.3557285 , -0.65567787, -0.13638911, -0.77849894, -0.43193421,\n",
       "        -0.73735291],\n",
       "       [ 0.54767703,  0.17808425, -0.1380248 ,  1.28452326, -0.43193421,\n",
       "         1.35620268],\n",
       "       [ 0.73962555, -0.48892545, -0.13720695, -0.77849894, -0.43193421,\n",
       "        -0.73735291],\n",
       "       [-0.60401412, -0.23879681, -0.1380248 ,  1.28452326, -0.43193421,\n",
       "        -0.73735291],\n",
       "       [-1.43579106,  2.42924197, -0.13884264, -0.77849894,  2.31516738,\n",
       "        -0.73735291],\n",
       "       [ 0.73962555,  0.09470804, -0.13720695,  1.28452326, -0.43193421,\n",
       "         1.35620268],\n",
       "       [ 1.31547112,  0.26146046, -0.13884264,  1.28452326, -0.43193421,\n",
       "         1.35620268],\n",
       "       [ 0.80360839,  0.42821288, -0.14047832, -0.77849894, -0.43193421,\n",
       "         1.35620268],\n",
       "       [ 1.05953976,  0.42821288, -0.14129616, -0.77849894, -0.43193421,\n",
       "         1.35620268],\n",
       "       [-1.56375674, -0.90580651, -0.13720695, -0.77849894, -0.43193421,\n",
       "        -0.73735291],\n",
       "       [-0.54003128, -0.73905408, -0.14129616, -0.77849894, -0.43193421,\n",
       "        -0.73735291],\n",
       "       [-1.62773958, -0.57230166, -0.14129616, -0.77849894, -0.43193421,\n",
       "        -0.73735291],\n",
       "       [-1.43579106,  1.59547985, -0.13720695, -0.77849894, -0.43193421,\n",
       "         1.35620268],\n",
       "       [-1.75570526,  1.67885606, -0.13966048, -0.77849894,  2.31516738,\n",
       "         1.35620268],\n",
       "       [ 0.73962555,  2.01236091, -0.13720695, -0.77849894,  2.31516738,\n",
       "        -0.73735291],\n",
       "       [ 0.61165987, -0.32217302, -0.13966048,  1.28452326, -0.43193421,\n",
       "        -0.73735291],\n",
       "       [ 0.73962555, -0.40554924, -0.13720695,  1.28452326, -0.43193421,\n",
       "        -0.73735291],\n",
       "       [-0.92392833, -0.73905408, -0.14129616, -0.77849894, -0.43193421,\n",
       "        -0.73735291],\n",
       "       [-1.24384253,  2.09573712, -0.13720695, -0.77849894,  2.31516738,\n",
       "        -0.73735291],\n",
       "       [-0.41206559, -0.23879681, -0.14129616,  1.28452326, -0.43193421,\n",
       "        -0.73735291],\n",
       "       [-1.30782537, -0.65567787, -0.13966048, -0.77849894, -0.43193421,\n",
       "        -0.73735291],\n",
       "       [ 0.73962555,  0.17808425, -0.13638911,  1.28452326, -0.43193421,\n",
       "         1.35620268],\n",
       "       [-0.22011707, -0.48892545, -0.13966048, -0.77849894, -0.43193421,\n",
       "         1.35620268]])"
      ]
     },
     "execution_count": 55,
     "metadata": {},
     "output_type": "execute_result"
    }
   ],
   "source": [
    "weather_data_num_tr"
   ]
  },
  {
   "cell_type": "code",
   "execution_count": 58,
   "metadata": {},
   "outputs": [
    {
     "data": {
      "text/plain": [
       "LinearRegression(copy_X=True, fit_intercept=True, n_jobs=None, normalize=False)"
      ]
     },
     "execution_count": 58,
     "metadata": {},
     "output_type": "execute_result"
    }
   ],
   "source": [
    "from sklearn.linear_model import LinearRegression\n",
    "from sklearn.tree import DecisionTreeRegressor\n",
    "x=weather_data.values[:,3:7]\n",
    "y=weather_data.values[:,3:7]\n",
    "model=LinearRegression()\n",
    "\n",
    "model.fit(weather_data_num_tr,weather_data_label)"
   ]
  },
  {
   "cell_type": "code",
   "execution_count": 59,
   "metadata": {},
   "outputs": [],
   "source": [
    "some_data=weather_data.iloc[:4]\n"
   ]
  },
  {
   "cell_type": "code",
   "execution_count": 60,
   "metadata": {},
   "outputs": [],
   "source": [
    "some_label=weather_data_label.iloc[:4]"
   ]
  },
  {
   "cell_type": "code",
   "execution_count": 61,
   "metadata": {},
   "outputs": [],
   "source": [
    "prepared_data=my_pipeline.transform(some_data)"
   ]
  },
  {
   "cell_type": "code",
   "execution_count": 62,
   "metadata": {},
   "outputs": [
    {
     "data": {
      "text/plain": [
       "array([0.22574274, 0.88500371, 0.76688422, 1.00603184])"
      ]
     },
     "execution_count": 62,
     "metadata": {},
     "output_type": "execute_result"
    }
   ],
   "source": [
    "model.predict(prepared_data)"
   ]
  },
  {
   "cell_type": "code",
   "execution_count": 63,
   "metadata": {},
   "outputs": [
    {
     "data": {
      "text/plain": [
       "[0, 1, 0, 1]"
      ]
     },
     "execution_count": 63,
     "metadata": {},
     "output_type": "execute_result"
    }
   ],
   "source": [
    "list(some_label)"
   ]
  },
  {
   "cell_type": "code",
   "execution_count": 64,
   "metadata": {},
   "outputs": [],
   "source": [
    "###model evaluating\n",
    "from sklearn.metrics import mean_squared_error\n",
    "weather_data_predictions=model.predict(weather_data_num_tr)\n",
    "mse=mean_squared_error(weather_data_label,weather_data_predictions)\n",
    "rmse=np.sqrt(mse)\n"
   ]
  },
  {
   "cell_type": "code",
   "execution_count": 65,
   "metadata": {},
   "outputs": [
    {
     "data": {
      "text/plain": [
       "0.1169425673252586"
      ]
     },
     "execution_count": 65,
     "metadata": {},
     "output_type": "execute_result"
    }
   ],
   "source": [
    "mse"
   ]
  },
  {
   "cell_type": "code",
   "execution_count": 66,
   "metadata": {},
   "outputs": [
    {
     "data": {
      "text/plain": [
       "0.34196866424463307"
      ]
     },
     "execution_count": 66,
     "metadata": {},
     "output_type": "execute_result"
    }
   ],
   "source": [
    "rmse"
   ]
  },
  {
   "cell_type": "code",
   "execution_count": 67,
   "metadata": {},
   "outputs": [],
   "source": [
    "from sklearn.model_selection import cross_val_score\n",
    "scores=cross_val_score(model,weather_data_num_tr,weather_data_label,scoring=\"neg_mean_squared_error\")\n",
    "rmse_scores=np.sqrt(-scores)"
   ]
  },
  {
   "cell_type": "code",
   "execution_count": 68,
   "metadata": {},
   "outputs": [
    {
     "data": {
      "text/plain": [
       "array([0.38392279, 0.35017021, 0.39413821, 0.28702608, 0.35448413])"
      ]
     },
     "execution_count": 68,
     "metadata": {},
     "output_type": "execute_result"
    }
   ],
   "source": [
    "rmse_scores"
   ]
  },
  {
   "cell_type": "code",
   "execution_count": 69,
   "metadata": {},
   "outputs": [],
   "source": [
    "def print_scores(scores):\n",
    "    print(\"scores are:\",scores)\n",
    "    print(\"mean is:\",scores.mean())\n",
    "    print(\"standard deviation:\",scores.std())\n",
    "\n",
    "    \n"
   ]
  },
  {
   "cell_type": "code",
   "execution_count": 70,
   "metadata": {},
   "outputs": [
    {
     "name": "stdout",
     "output_type": "stream",
     "text": [
      "scores are: [0.38392279 0.35017021 0.39413821 0.28702608 0.35448413]\n",
      "mean is: 0.35394828402478085\n",
      "standard deviation: 0.037434858411886186\n"
     ]
    }
   ],
   "source": [
    "print_scores(rmse_scores)"
   ]
  },
  {
   "cell_type": "code",
   "execution_count": 71,
   "metadata": {},
   "outputs": [
    {
     "data": {
      "text/plain": [
       "['final.joblib']"
      ]
     },
     "execution_count": 71,
     "metadata": {},
     "output_type": "execute_result"
    }
   ],
   "source": [
    "from joblib import dump,load\n",
    "\n",
    "dump(model,'final.joblib')\n"
   ]
  },
  {
   "cell_type": "code",
   "execution_count": null,
   "metadata": {},
   "outputs": [],
   "source": []
  },
  {
   "cell_type": "code",
   "execution_count": 73,
   "metadata": {},
   "outputs": [
    {
     "data": {
      "text/plain": [
       "array([0.31486023])"
      ]
     },
     "execution_count": 73,
     "metadata": {},
     "output_type": "execute_result"
    }
   ],
   "source": [
    "from joblib import dump,load\n",
    "import numpy as np\n",
    "\n",
    "model=load('final.joblib')\n",
    "\n",
    "features=np.array([[ 0.09979714,  0.34483667, -0.13720695,  0.96903271, -0.43193421,\n",
    "        1.35620268]])\n",
    "model.predict(features)\n"
   ]
  },
  {
   "cell_type": "code",
   "execution_count": null,
   "metadata": {},
   "outputs": [],
   "source": [
    "\n"
   ]
  },
  {
   "cell_type": "code",
   "execution_count": null,
   "metadata": {},
   "outputs": [],
   "source": []
  }
 ],
 "metadata": {
  "kernelspec": {
   "display_name": "Python 3",
   "language": "python",
   "name": "python3"
  },
  "language_info": {
   "codemirror_mode": {
    "name": "ipython",
    "version": 3
   },
   "file_extension": ".py",
   "mimetype": "text/x-python",
   "name": "python",
   "nbconvert_exporter": "python",
   "pygments_lexer": "ipython3",
   "version": "3.7.6"
  }
 },
 "nbformat": 4,
 "nbformat_minor": 4
}
